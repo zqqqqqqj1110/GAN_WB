{
 "cells": [
  {
   "cell_type": "code",
   "execution_count": 3,
   "id": "af09be56",
   "metadata": {},
   "outputs": [
    {
     "name": "stderr",
     "output_type": "stream",
     "text": [
      "/var/folders/4p/p5h6h2t5317gljf_p2xg65wc0000gn/T/ipykernel_52306/680293088.py:12: FutureWarning: 'H' is deprecated and will be removed in a future version, please use 'h' instead.\n",
      "  timestamps = pd.date_range(start='2020-01-01 00:00:00', periods=26280, freq='H')\n"
     ]
    },
    {
     "name": "stdout",
     "output_type": "stream",
     "text": [
      "✅ Saved: seasonal_split/HR_data_train_tm_Spring.npy with shape (6624, 2, 64, 64)\n",
      "✅ Saved: seasonal_split/HR_data_train_tm_Summer.npy with shape (6624, 2, 64, 64)\n",
      "✅ Saved: seasonal_split/HR_data_train_tm_Autumn.npy with shape (6552, 2, 64, 64)\n",
      "✅ Saved: seasonal_split/HR_data_train_tm_Winter.npy with shape (6480, 2, 64, 64)\n"
     ]
    }
   ],
   "source": [
    "import numpy as np\n",
    "import pandas as pd\n",
    "import os\n",
    "\n",
    "# === 加载数据 ===\n",
    "data = np.load(\"tm/HR_data_train_tm.npy\")  # shape: (26304, 2, 64, 64)\n",
    "\n",
    "# 仅取前 3 年：2020-2022 共 26280 小时\n",
    "data = data[:26280]\n",
    "\n",
    "# 构造对应时间戳\n",
    "timestamps = pd.date_range(start='2020-01-01 00:00:00', periods=26280, freq='H')\n",
    "\n",
    "# 判断季节\n",
    "def get_season(month):\n",
    "    if month in [3, 4, 5]:\n",
    "        return 'Spring'\n",
    "    elif month in [6, 7, 8]:\n",
    "        return 'Summer'\n",
    "    elif month in [9, 10, 11]:\n",
    "        return 'Autumn'\n",
    "    else:\n",
    "        return 'Winter'\n",
    "\n",
    "seasons = np.array([get_season(t.month) for t in timestamps])\n",
    "\n",
    "# 输出文件夹\n",
    "output_dir = \"seasonal_split\"\n",
    "os.makedirs(output_dir, exist_ok=True)\n",
    "\n",
    "# 保存四个季节\n",
    "for season in ['Spring', 'Summer', 'Autumn', 'Winter']:\n",
    "    indices = seasons == season\n",
    "    seasonal_data = data[indices]\n",
    "    save_path = os.path.join(output_dir, f\"HR_data_train_tm_{season}.npy\")\n",
    "    np.save(save_path, seasonal_data)\n",
    "    print(f\"✅ Saved: {save_path} with shape {seasonal_data.shape}\")\n"
   ]
  },
  {
   "cell_type": "code",
   "execution_count": 4,
   "id": "87dba5fb",
   "metadata": {},
   "outputs": [
    {
     "name": "stderr",
     "output_type": "stream",
     "text": [
      "/var/folders/4p/p5h6h2t5317gljf_p2xg65wc0000gn/T/ipykernel_52306/915350467.py:9: FutureWarning: 'H' is deprecated and will be removed in a future version, please use 'h' instead.\n",
      "  timestamps = pd.date_range(start='2023-01-01 00:00:00', periods=8760, freq='H')\n"
     ]
    },
    {
     "name": "stdout",
     "output_type": "stream",
     "text": [
      "✅ Saved: seasonal_split/HR_data_valid_tm_Spring.npy with shape (2208, 2, 64, 64)\n",
      "✅ Saved: seasonal_split/HR_data_valid_tm_Summer.npy with shape (2208, 2, 64, 64)\n",
      "✅ Saved: seasonal_split/HR_data_valid_tm_Autumn.npy with shape (2184, 2, 64, 64)\n",
      "✅ Saved: seasonal_split/HR_data_valid_tm_Winter.npy with shape (2160, 2, 64, 64)\n"
     ]
    }
   ],
   "source": [
    "import numpy as np\n",
    "import pandas as pd\n",
    "import os\n",
    "\n",
    "# === 加载验证集数据 ===\n",
    "data = np.load(\"tm/HR_data_valid_tm.npy\")  # shape: (8760, 2, 64, 64)\n",
    "\n",
    "# === 构造 2023 年时间戳（非闰年） ===\n",
    "timestamps = pd.date_range(start='2023-01-01 00:00:00', periods=8760, freq='H')\n",
    "\n",
    "# === 定义季节映射函数 ===\n",
    "def get_season(month):\n",
    "    if month in [3, 4, 5]:\n",
    "        return 'Spring'\n",
    "    elif month in [6, 7, 8]:\n",
    "        return 'Summer'\n",
    "    elif month in [9, 10, 11]:\n",
    "        return 'Autumn'\n",
    "    else:\n",
    "        return 'Winter'\n",
    "\n",
    "# === 映射每个时间点到季节 ===\n",
    "seasons = np.array([get_season(t.month) for t in timestamps])\n",
    "\n",
    "# === 创建输出目录 ===\n",
    "output_dir = \"seasonal_split\"\n",
    "os.makedirs(output_dir, exist_ok=True)\n",
    "\n",
    "# === 分季节保存 ===\n",
    "for season in ['Spring', 'Summer', 'Autumn', 'Winter']:\n",
    "    seasonal_data = data[seasons == season]\n",
    "    save_path = os.path.join(output_dir, f\"HR_data_valid_tm_{season}.npy\")\n",
    "    np.save(save_path, seasonal_data)\n",
    "    print(f\"✅ Saved: {save_path} with shape {seasonal_data.shape}\")\n"
   ]
  },
  {
   "cell_type": "code",
   "execution_count": 5,
   "id": "9d89fba7",
   "metadata": {},
   "outputs": [
    {
     "name": "stdout",
     "output_type": "stream",
     "text": [
      "✅ Saved: seasonal_split/HR_data_test_tm_Spring.npy with shape (2208, 2, 64, 64)\n",
      "✅ Saved: seasonal_split/HR_data_test_tm_Summer.npy with shape (2208, 2, 64, 64)\n",
      "✅ Saved: seasonal_split/HR_data_test_tm_Autumn.npy with shape (2184, 2, 64, 64)\n",
      "✅ Saved: seasonal_split/HR_data_test_tm_Winter.npy with shape (2184, 2, 64, 64)\n"
     ]
    },
    {
     "name": "stderr",
     "output_type": "stream",
     "text": [
      "/var/folders/4p/p5h6h2t5317gljf_p2xg65wc0000gn/T/ipykernel_52306/3580835069.py:9: FutureWarning: 'H' is deprecated and will be removed in a future version, please use 'h' instead.\n",
      "  timestamps = pd.date_range(start='2024-01-01 00:00:00', periods=8784, freq='H')\n"
     ]
    }
   ],
   "source": [
    "import numpy as np\n",
    "import pandas as pd\n",
    "import os\n",
    "\n",
    "# === 加载测试集数据 ===\n",
    "data = np.load(\"tm/HR_data_test_tm.npy\")  # shape: (8784, 2, 64, 64)\n",
    "\n",
    "# === 构造 2024 年时间戳（闰年） ===\n",
    "timestamps = pd.date_range(start='2024-01-01 00:00:00', periods=8784, freq='H')\n",
    "\n",
    "# === 定义季节判断函数 ===\n",
    "def get_season(month):\n",
    "    if month in [3, 4, 5]:\n",
    "        return 'Spring'\n",
    "    elif month in [6, 7, 8]:\n",
    "        return 'Summer'\n",
    "    elif month in [9, 10, 11]:\n",
    "        return 'Autumn'\n",
    "    else:\n",
    "        return 'Winter'\n",
    "\n",
    "# === 映射每个时间点到季节 ===\n",
    "seasons = np.array([get_season(t.month) for t in timestamps])\n",
    "\n",
    "# === 创建输出目录 ===\n",
    "output_dir = \"seasonal_split\"\n",
    "os.makedirs(output_dir, exist_ok=True)\n",
    "\n",
    "# === 分季节保存 ===\n",
    "for season in ['Spring', 'Summer', 'Autumn', 'Winter']:\n",
    "    seasonal_data = data[seasons == season]\n",
    "    save_path = os.path.join(output_dir, f\"HR_data_test_tm_{season}.npy\")\n",
    "    np.save(save_path, seasonal_data)\n",
    "    print(f\"✅ Saved: {save_path} with shape {seasonal_data.shape}\")\n"
   ]
  },
  {
   "cell_type": "code",
   "execution_count": null,
   "id": "1bd0ac99",
   "metadata": {},
   "outputs": [],
   "source": []
  }
 ],
 "metadata": {
  "kernelspec": {
   "display_name": "esrgan-env",
   "language": "python",
   "name": "python3"
  },
  "language_info": {
   "codemirror_mode": {
    "name": "ipython",
    "version": 3
   },
   "file_extension": ".py",
   "mimetype": "text/x-python",
   "name": "python",
   "nbconvert_exporter": "python",
   "pygments_lexer": "ipython3",
   "version": "3.9.22"
  }
 },
 "nbformat": 4,
 "nbformat_minor": 5
}
